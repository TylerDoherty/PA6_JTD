{
 "cells": [
  {
   "cell_type": "markdown",
   "id": "ac7ee9f3",
   "metadata": {},
   "source": [
    "#  PA6\n",
    "#  Tyler Doherty\n",
    "#  Version 1\n",
    "#  Fall 2023"
   ]
  },
  {
   "cell_type": "markdown",
   "id": "fac43550",
   "metadata": {},
   "source": [
    "### Task1: Write a Python program will calculate the area and perimeter of a triangle using two different functions named calcArea() and calcPerimeter(). Your program should prompt the user for the length of three sides of the triangle. Each function should take the lengths of the sides as arguments and return the output of their respective calculations. As an added feature, set the default values of your parameters to 1 so if you call either function without parameters, it will still produce output) (I recommend using Heron’s Method for calculating the area of a triangle.)"
   ]
  },
  {
   "cell_type": "code",
   "execution_count": 6,
   "id": "ef5238a3",
   "metadata": {},
   "outputs": [
    {
     "name": "stdout",
     "output_type": "stream",
     "text": [
      "Enter the length of the first side: 12\n",
      "Enter the length of the second side: 16\n",
      "Enter the length of the third side: 21\n",
      "The area of the triangle is: 95.45\n",
      "The perimeter of the triangle is: 49.00\n"
     ]
    }
   ],
   "source": [
    "import math\n",
    "def calcArea(a=1, b=1, c=1):\n",
    "    s = (a + b + c) / 2\n",
    "    area = math.sqrt(s * (s - a) * (s - b) * (s - c)\n",
    "                     if (a + b > c and a + c > b and b + c > a)\n",
    "                     else -1)\n",
    "    return area\n",
    "def calcPerimeter(a=1, b=1, c=1):\n",
    "    perimeter = a + b + c\n",
    "    return perimeter\n",
    "a = float(input(\"Enter the length of the first side: \"))\n",
    "b = float(input(\"Enter the length of the second side: \"))\n",
    "c = float(input(\"Enter the length of the third side: \"))\n",
    "area = calcArea(a, b, c)\n",
    "perimeter = calcPerimeter(a, b, c)\n",
    "if area != -1:\n",
    "    print(f\"The area of the triangle is: {area:.2f}\")\n",
    "else:\n",
    "    print(\"Invalid triangle. The sum of any two sides must be greater than the third side.\")\n",
    "print(f\"The perimeter of the triangle is: {perimeter:.2f}\")"
   ]
  },
  {
   "cell_type": "markdown",
   "id": "f6d7c33a",
   "metadata": {},
   "source": [
    "### Task2: Write a Python program to play “Guess the Number”. Your program should generate a random number between 1 and 1000 and then prompt the user for a guess. Possible responses to the guess should be ‘Too high! Guess again’, ‘Too low! Guess again’, and ‘Correct!’."
   ]
  },
  {
   "cell_type": "code",
   "execution_count": 10,
   "id": "78704cc6",
   "metadata": {},
   "outputs": [
    {
     "name": "stdout",
     "output_type": "stream",
     "text": [
      "guess the number between 1 and 1000:800\n",
      "too high, guess again.\n",
      "guess the number between 1 and 1000:600\n",
      "too high, guess again.\n",
      "guess the number between 1 and 1000:400\n",
      "too high, guess again.\n",
      "guess the number between 1 and 1000:200\n",
      "too high, guess again.\n",
      "guess the number between 1 and 1000:100\n",
      "too low, guess again.\n",
      "guess the number between 1 and 1000:150\n",
      "too low, guess again.\n",
      "guess the number between 1 and 1000:170\n",
      "too low, guess again.\n",
      "guess the number between 1 and 1000:180\n",
      "too low, guess again.\n",
      "guess the number between 1 and 1000:190\n",
      "too high, guess again.\n",
      "guess the number between 1 and 1000:185\n",
      "too high, guess again.\n",
      "guess the number between 1 and 1000:181\n",
      "too low, guess again.\n",
      "guess the number between 1 and 1000:183\n",
      "too low, guess again.\n",
      "guess the number between 1 and 1000:184\n",
      "correct!\n"
     ]
    }
   ],
   "source": [
    "import random\n",
    "random_number = random.randint(1, 1000)\n",
    "while True:\n",
    "    try:\n",
    "        user_guess = int(input(\"guess the number between 1 and 1000:\"))\n",
    "    except ValueError:\n",
    "        print(\"invalid input, please enter a valid number.\")\n",
    "        continue\n",
    "    if user_guess < random_number:\n",
    "        print(\"too low, guess again.\")\n",
    "    elif user_guess > random_number:\n",
    "        print(\"too high, guess again.\")\n",
    "    else:\n",
    "        print(\"correct!\")\n",
    "        break"
   ]
  },
  {
   "cell_type": "markdown",
   "id": "d59547b1",
   "metadata": {},
   "source": [
    "### Task3: Write a Python program to calculate the mean temperature over a set of Fahrenheit temperature values. Your program should calculate the mean in a function called meanTemp()and then print message that indicates the number of days your mean represents and the mean (see below). Your function should be flexible so that you can pass any number of temperatures to it. You do not need to get input from the user; simply include the temperatures in the function parameter list. Here is a sample run of the program:"
   ]
  },
  {
   "cell_type": "code",
   "execution_count": 12,
   "id": "ae5b0198",
   "metadata": {},
   "outputs": [
    {
     "name": "stdout",
     "output_type": "stream",
     "text": [
      "the mean temp over 5 days is 78.00 degrees fahrenheit\n"
     ]
    }
   ],
   "source": [
    "def meanTemp(*temperatures):\n",
    "    num_days = len(temperatures)\n",
    "    total_temp = sum(temperatures)\n",
    "    if num_days > 0:\n",
    "        mean_temperature = total_temp / num_days\n",
    "        return mean_temperature, num_days\n",
    "    else:\n",
    "        return None, 0\n",
    "temperatures = [78, 85, 92, 70, 65]\n",
    "mean, num_days = meanTemp(*temperatures)\n",
    "if num_days > 0:\n",
    "    print(f\"the mean temp over {num_days} days is {mean:.2f} degrees fahrenheit\")\n",
    "else:\n",
    "    print(\"no temp data provided\")"
   ]
  },
  {
   "cell_type": "code",
   "execution_count": null,
   "id": "29465d97",
   "metadata": {},
   "outputs": [],
   "source": []
  }
 ],
 "metadata": {
  "kernelspec": {
   "display_name": "Python 3 (ipykernel)",
   "language": "python",
   "name": "python3"
  },
  "language_info": {
   "codemirror_mode": {
    "name": "ipython",
    "version": 3
   },
   "file_extension": ".py",
   "mimetype": "text/x-python",
   "name": "python",
   "nbconvert_exporter": "python",
   "pygments_lexer": "ipython3",
   "version": "3.11.4"
  }
 },
 "nbformat": 4,
 "nbformat_minor": 5
}
